{
 "cells": [
  {
   "cell_type": "markdown",
   "id": "d77d5b68",
   "metadata": {},
   "source": [
    "# Exploring a Taiwan real estate dataset."
   ]
  },
  {
   "cell_type": "markdown",
   "id": "801e7b18",
   "metadata": {},
   "source": [
    "***"
   ]
  },
  {
   "cell_type": "markdown",
   "id": "7f5be40c",
   "metadata": {},
   "source": [
    "## Taiwan real estate dataset contains four variables:"
   ]
  },
  {
   "cell_type": "markdown",
   "id": "617f8be6",
   "metadata": {},
   "source": [
    "     dist_to_mrt_station_m: Distance to nearest MRT metro station, in meters.\n",
    "     n_convenience: No. of convenience stores in walking distance.\n",
    "     house_age_years: The age of the house, in years, in three groups.\n",
    "     price_twd_msq: House price per unit area, in New Taiwan dollars per meter squared.\n"
   ]
  },
  {
   "cell_type": "code",
   "execution_count": 8,
   "id": "069381ad",
   "metadata": {},
   "outputs": [
    {
     "name": "stdout",
     "output_type": "stream",
     "text": [
      "Index(['dist_to_mrt_m', 'n_convenience', 'house_age_years', 'price_twd_msq'], dtype='object')\n",
      "(414, 4)\n"
     ]
    },
    {
     "data": {
      "text/html": [
       "<div>\n",
       "<style scoped>\n",
       "    .dataframe tbody tr th:only-of-type {\n",
       "        vertical-align: middle;\n",
       "    }\n",
       "\n",
       "    .dataframe tbody tr th {\n",
       "        vertical-align: top;\n",
       "    }\n",
       "\n",
       "    .dataframe thead th {\n",
       "        text-align: right;\n",
       "    }\n",
       "</style>\n",
       "<table border=\"1\" class=\"dataframe\">\n",
       "  <thead>\n",
       "    <tr style=\"text-align: right;\">\n",
       "      <th></th>\n",
       "      <th>dist_to_mrt_m</th>\n",
       "      <th>n_convenience</th>\n",
       "      <th>house_age_years</th>\n",
       "      <th>price_twd_msq</th>\n",
       "    </tr>\n",
       "  </thead>\n",
       "  <tbody>\n",
       "    <tr>\n",
       "      <th>0</th>\n",
       "      <td>84.87882</td>\n",
       "      <td>10</td>\n",
       "      <td>30 to 45</td>\n",
       "      <td>11.467474</td>\n",
       "    </tr>\n",
       "    <tr>\n",
       "      <th>1</th>\n",
       "      <td>306.59470</td>\n",
       "      <td>9</td>\n",
       "      <td>15 to 30</td>\n",
       "      <td>12.768533</td>\n",
       "    </tr>\n",
       "    <tr>\n",
       "      <th>2</th>\n",
       "      <td>561.98450</td>\n",
       "      <td>5</td>\n",
       "      <td>0 to 15</td>\n",
       "      <td>14.311649</td>\n",
       "    </tr>\n",
       "    <tr>\n",
       "      <th>3</th>\n",
       "      <td>561.98450</td>\n",
       "      <td>5</td>\n",
       "      <td>0 to 15</td>\n",
       "      <td>16.580938</td>\n",
       "    </tr>\n",
       "    <tr>\n",
       "      <th>4</th>\n",
       "      <td>390.56840</td>\n",
       "      <td>5</td>\n",
       "      <td>0 to 15</td>\n",
       "      <td>13.040847</td>\n",
       "    </tr>\n",
       "    <tr>\n",
       "      <th>5</th>\n",
       "      <td>2175.03000</td>\n",
       "      <td>3</td>\n",
       "      <td>0 to 15</td>\n",
       "      <td>9.712557</td>\n",
       "    </tr>\n",
       "    <tr>\n",
       "      <th>6</th>\n",
       "      <td>623.47310</td>\n",
       "      <td>7</td>\n",
       "      <td>30 to 45</td>\n",
       "      <td>12.193646</td>\n",
       "    </tr>\n",
       "    <tr>\n",
       "      <th>7</th>\n",
       "      <td>287.60250</td>\n",
       "      <td>6</td>\n",
       "      <td>15 to 30</td>\n",
       "      <td>14.130106</td>\n",
       "    </tr>\n",
       "    <tr>\n",
       "      <th>8</th>\n",
       "      <td>5512.03800</td>\n",
       "      <td>1</td>\n",
       "      <td>30 to 45</td>\n",
       "      <td>5.688351</td>\n",
       "    </tr>\n",
       "    <tr>\n",
       "      <th>9</th>\n",
       "      <td>1783.18000</td>\n",
       "      <td>3</td>\n",
       "      <td>15 to 30</td>\n",
       "      <td>6.686838</td>\n",
       "    </tr>\n",
       "  </tbody>\n",
       "</table>\n",
       "</div>"
      ],
      "text/plain": [
       "   dist_to_mrt_m  n_convenience house_age_years  price_twd_msq\n",
       "0       84.87882             10        30 to 45      11.467474\n",
       "1      306.59470              9        15 to 30      12.768533\n",
       "2      561.98450              5         0 to 15      14.311649\n",
       "3      561.98450              5         0 to 15      16.580938\n",
       "4      390.56840              5         0 to 15      13.040847\n",
       "5     2175.03000              3         0 to 15       9.712557\n",
       "6      623.47310              7        30 to 45      12.193646\n",
       "7      287.60250              6        15 to 30      14.130106\n",
       "8     5512.03800              1        30 to 45       5.688351\n",
       "9     1783.18000              3        15 to 30       6.686838"
      ]
     },
     "execution_count": 8,
     "metadata": {},
     "output_type": "execute_result"
    }
   ],
   "source": [
    "#importing our dataset using pandas\n",
    "import pandas as pd\n",
    "taiwan_real_estate = pd.read_csv('datasets/taiwan_real_estate.csv')\n",
    "print(taiwan_real_estate.columns)\n",
    "print(taiwan_real_estate.shape)\n",
    "taiwan_real_estate.head(10)"
   ]
  },
  {
   "cell_type": "markdown",
   "id": "ee0b4c15",
   "metadata": {},
   "source": [
    "###  House price makes a good response variable, as predicting prices is a common business task. \n"
   ]
  },
  {
   "cell_type": "markdown",
   "id": "21c1e4f3",
   "metadata": {},
   "source": [
    "#### visualize the relationship between no. of convinience stores and the house price"
   ]
  },
  {
   "cell_type": "code",
   "execution_count": 9,
   "id": "78fb3246",
   "metadata": {},
   "outputs": [],
   "source": [
    "# importing matplotlib and seaborn for visualization \n",
    "# Import seaborn with alias sns\n",
    "import seaborn as sns\n",
    "# Import matplotlib.pyplot with alias plt\n",
    "import matplotlib.pyplot as plt"
   ]
  },
  {
   "cell_type": "code",
   "execution_count": 10,
   "id": "ef708659",
   "metadata": {},
   "outputs": [
    {
     "data": {
      "image/png": "[encoded data removed]",
      "text/plain": [
       "<Figure size 432x288 with 1 Axes>"
      ]
     },
     "metadata": {
      "needs_background": "light"
     },
     "output_type": "display_data"
    }
   ],
   "source": [
    "# Draw the scatter plot\n",
    "sns.scatterplot(x='n_convenience', y='price_twd_msq', data=taiwan_real_estate)\n",
    "# Show the plot\n",
    "plt.show()"
   ]
  },
  {
   "cell_type": "code",
   "execution_count": 11,
   "id": "85204eaa",
   "metadata": {},
   "outputs": [
    {
     "data": {
      "image/png": "[encoded data removed]",
      "text/plain": [
       "<Figure size 432x288 with 1 Axes>"
      ]
     },
     "metadata": {
      "needs_background": "light"
     },
     "output_type": "display_data"
    }
   ],
   "source": [
    "# Draw a trend line on the scatter plot of price_twd_msq vs. n_convenience\n",
    "sns.regplot(x='n_convenience', y='price_twd_msq', data=taiwan_real_estate, ci=None, scatter_kws={'alpha': 0.5})\n",
    "# Show the plot\n",
    "plt.show()"
   ]
  },
  {
   "cell_type": "markdown",
   "id": "72650e62",
   "metadata": {},
   "source": [
    "## Linear regression with ols()"
   ]
  },
  {
   "cell_type": "markdown",
   "id": "1c4fc2f9",
   "metadata": {},
   "source": [
    "***"
   ]
  },
  {
   "cell_type": "markdown",
   "id": "d380c99a",
   "metadata": {},
   "source": [
    "### Linear Regression between house price and no. of convenience stores."
   ]
  },
  {
   "cell_type": "code",
   "execution_count": 12,
   "id": "a7ce873d",
   "metadata": {},
   "outputs": [
    {
     "name": "stdout",
     "output_type": "stream",
     "text": [
      "Intercept        8.224237\n",
      "n_convenience    0.798080\n",
      "dtype: float64\n"
     ]
    }
   ],
   "source": [
    "# Import the ols function\n",
    "from statsmodels.formula.api import ols\n",
    "\n",
    "# Create the model object\n",
    "mdl_price_vs_conv = ols(\"price_twd_msq ~ n_convenience\", data=taiwan_real_estate)\n",
    "\n",
    "# Fit the model\n",
    "mdl_price_vs_conv = mdl_price_vs_conv.fit()\n",
    "\n",
    "# Print the parameters of the fitted model (intercept and slope)\n",
    "print(mdl_price_vs_conv.params)"
   ]
  },
  {
   "cell_type": "markdown",
   "id": "68ff07d0",
   "metadata": {},
   "source": [
    "#### On average, a house with zero convenience stores nearby had a price of 8.2242 TWD per square meter.\n",
    "#### If you increase the number of nearby convenience stores by one, then the expected increase in house price is 0.7981 TWD per square meter."
   ]
  },
  {
   "cell_type": "markdown",
   "id": "8fa84171",
   "metadata": {},
   "source": [
    "###### The Taiwan real estate dataset has a categorical variable in the form of the age of each house. The ages have been split into 3 groups: 0 to 15 years, 15 to 30 years, and 30 to 45 years."
   ]
  },
  {
   "cell_type": "code",
   "execution_count": 13,
   "id": "1f82b2d3",
   "metadata": {},
   "outputs": [
    {
     "data": {
      "image/png": "[encoded data removed]",
      "text/plain": [
       "<Figure size 1080x360 with 3 Axes>"
      ]
     },
     "metadata": {
      "needs_background": "light"
     },
     "output_type": "display_data"
    }
   ],
   "source": [
    "# Histograms of price_twd_msq with 10 bins, split by the age of each house\n",
    "sns.displot(data=taiwan_real_estate, x='price_twd_msq', col='house_age_years', bins=10)\n",
    "\n",
    "# Show the plot\n",
    "plt.show()"
   ]
  },
  {
   "cell_type": "markdown",
   "id": "14228352",
   "metadata": {},
   "source": [
    "###### Grouped means for the house prices in the Taiwan real estate dataset. This will help with understanding the output of a linear regression with a categorical variable."
   ]
  },
  {
   "cell_type": "code",
   "execution_count": 14,
   "id": "d96c03c7",
   "metadata": {},
   "outputs": [
    {
     "name": "stdout",
     "output_type": "stream",
     "text": [
      "house_age_years\n",
      "0 to 15     12.637471\n",
      "15 to 30     9.876743\n",
      "30 to 45    11.393264\n",
      "Name: price_twd_msq, dtype: float64\n"
     ]
    }
   ],
   "source": [
    "# Calculate the mean of price_twd_msq, grouped by house age\n",
    "mean_price_by_age = taiwan_real_estate.groupby('house_age_years').price_twd_msq.mean()\n",
    "\n",
    "# Print the result\n",
    "print(mean_price_by_age)"
   ]
  },
  {
   "cell_type": "code",
   "execution_count": 15,
   "id": "dda86993",
   "metadata": {},
   "outputs": [
    {
     "data": {
      "text/plain": [
       "<AxesSubplot:>"
      ]
     },
     "execution_count": 15,
     "metadata": {},
     "output_type": "execute_result"
    },
    {
     "data": {
      "image/png": "[encoded data removed]",
      "text/plain": [
       "<Figure size 432x288 with 1 Axes>"
      ]
     },
     "metadata": {
      "needs_background": "light"
     },
     "output_type": "display_data"
    }
   ],
   "source": [
    "sns.barplot(x=list(mean_price_by_age), y=['0 to 15', '15 to 30', '30 to 45'])"
   ]
  },
  {
   "cell_type": "markdown",
   "id": "75c247be",
   "metadata": {},
   "source": [
    "### Linear Regression between house price and house age (categorical variable)."
   ]
  },
  {
   "cell_type": "code",
   "execution_count": 16,
   "id": "5432bf7d",
   "metadata": {},
   "outputs": [
    {
     "name": "stdout",
     "output_type": "stream",
     "text": [
      "Intercept                      12.637471\n",
      "house_age_years[T.15 to 30]    -2.760728\n",
      "house_age_years[T.30 to 45]    -1.244207\n",
      "dtype: float64\n"
     ]
    }
   ],
   "source": [
    "# Create the model, fit it\n",
    "mdl_price_vs_age = ols(\"price_twd_msq ~ house_age_years\", data=taiwan_real_estate).fit()\n",
    "\n",
    "# Print the parameters of the fitted model\n",
    "print(mdl_price_vs_age.params)"
   ]
  },
  {
   "cell_type": "markdown",
   "id": "79d59676",
   "metadata": {},
   "source": [
    "#### there are negative coefficients because the coefficients are relative to the intercept!. we can modifiy the script so that, the coefficients are relative to zero."
   ]
  },
  {
   "cell_type": "code",
   "execution_count": 17,
   "id": "b994dc07",
   "metadata": {},
   "outputs": [
    {
     "name": "stdout",
     "output_type": "stream",
     "text": [
      "house_age_years[0 to 15]     12.637471\n",
      "house_age_years[15 to 30]     9.876743\n",
      "house_age_years[30 to 45]    11.393264\n",
      "dtype: float64\n"
     ]
    }
   ],
   "source": [
    "# Update the model formula to remove the intercept\n",
    "mdl_price_vs_age0 = ols(\"price_twd_msq ~ house_age_years +0\", data=taiwan_real_estate).fit()\n",
    "\n",
    "# Print the parameters of the fitted model\n",
    "print(mdl_price_vs_age0.params)"
   ]
  },
  {
   "cell_type": "markdown",
   "id": "e9611229",
   "metadata": {},
   "source": [
    "## Predicting house prices"
   ]
  },
  {
   "cell_type": "code",
   "execution_count": 18,
   "id": "83e77f4d",
   "metadata": {},
   "outputs": [
    {
     "name": "stdout",
     "output_type": "stream",
     "text": [
      "    n_convenience\n",
      "0               0\n",
      "1               1\n",
      "2               2\n",
      "3               3\n",
      "4               4\n",
      "5               5\n",
      "6               6\n",
      "7               7\n",
      "8               8\n",
      "9               9\n",
      "10             10\n"
     ]
    }
   ],
   "source": [
    "# Create a DataFrame of explanatory data, where the number of convenience stores, n_convenience,\n",
    "#takes the integer values from zero to ten.\n",
    "\n",
    "#import numpy\n",
    "import numpy as np\n",
    "\n",
    "# Create explanatory_data \n",
    "explanatory_data = pd.DataFrame({'n_convenience': np.arange(0,11)})\n",
    "print(explanatory_data)"
   ]
  },
  {
   "cell_type": "code",
   "execution_count": 19,
   "id": "559aa854",
   "metadata": {},
   "outputs": [
    {
     "name": "stdout",
     "output_type": "stream",
     "text": [
      "    n_convenience  price_twd_msq\n",
      "0               0       8.224237\n",
      "1               1       9.022317\n",
      "2               2       9.820397\n",
      "3               3      10.618477\n",
      "4               4      11.416556\n",
      "5               5      12.214636\n",
      "6               6      13.012716\n",
      "7               7      13.810795\n",
      "8               8      14.608875\n",
      "9               9      15.406955\n",
      "10             10      16.205035\n"
     ]
    }
   ],
   "source": [
    "# Using mdl_price_vs_conv to predict with explanatory_data.\n",
    "\n",
    "# Create prediction_data\n",
    "prediction_data = explanatory_data.assign(\n",
    "    price_twd_msq = mdl_price_vs_conv.predict(explanatory_data))\n",
    "\n",
    "# Print the result\n",
    "print(prediction_data)"
   ]
  },
  {
   "cell_type": "code",
   "execution_count": 20,
   "id": "ae0ce016",
   "metadata": {},
   "outputs": [
    {
     "data": {
      "image/png": "[encoded data removed]",
      "text/plain": [
       "<Figure size 432x288 with 1 Axes>"
      ]
     },
     "metadata": {
      "needs_background": "light"
     },
     "output_type": "display_data"
    }
   ],
   "source": [
    "#showing predictions(predictions in red, actual in blue)\n",
    "\n",
    "# Create a new figure, fig\n",
    "fig = plt.figure()\n",
    "\n",
    "sns.regplot(x=\"n_convenience\",\n",
    "            y=\"price_twd_msq\",\n",
    "            data=taiwan_real_estate,\n",
    "            ci=None)\n",
    "# Add a scatter plot layer to the regplot\n",
    "sns.scatterplot(x='n_convenience', y='price_twd_msq', data=prediction_data, color='red', marker='s')\n",
    "\n",
    "# Show the layered plot\n",
    "plt.show()"
   ]
  },
  {
   "cell_type": "code",
   "execution_count": null,
   "id": "1489cd19",
   "metadata": {},
   "outputs": [],
   "source": []
  }
 ],
 "metadata": {
  "kernelspec": {
   "display_name": "Python 3 (ipykernel)",
   "language": "python",
   "name": "python3"
  },
  "language_info": {
   "codemirror_mode": {
    "name": "ipython",
    "version": 3
   },
   "file_extension": ".py",
   "mimetype": "text/x-python",
   "name": "python",
   "nbconvert_exporter": "python",
   "pygments_lexer": "ipython3",
   "version": "3.10.5"
  }
 },
 "nbformat": 4,
 "nbformat_minor": 5
}
